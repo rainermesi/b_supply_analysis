{
  "nbformat": 4,
  "nbformat_minor": 0,
  "metadata": {
    "kernelspec": {
      "display_name": "Python 3",
      "language": "python",
      "name": "python3"
    },
    "language_info": {
      "codemirror_mode": {
        "name": "ipython",
        "version": 3
      },
      "file_extension": ".py",
      "mimetype": "text/x-python",
      "name": "python",
      "nbconvert_exporter": "python",
      "pygments_lexer": "ipython3",
      "version": "3.7.4"
    },
    "colab": {
      "name": "Bolt-Data-Analysis.ipynb",
      "provenance": [],
      "collapsed_sections": [],
      "include_colab_link": true
    }
  },
  "cells": [
    {
      "cell_type": "markdown",
      "metadata": {
        "id": "view-in-github",
        "colab_type": "text"
      },
      "source": [
        "<a href=\"https://colab.research.google.com/github/rainermesi/b_supply_analysis/blob/main/B_Data_Analysis.ipynb\" target=\"_parent\"><img src=\"https://colab.research.google.com/assets/colab-badge.svg\" alt=\"Open In Colab\"/></a>"
      ]
    },
    {
      "cell_type": "markdown",
      "metadata": {
        "id": "rG1-HfKYgeTa"
      },
      "source": [
        "# Bolt - Supply Data Analysis"
      ]
    },
    {
      "cell_type": "markdown",
      "metadata": {
        "id": "eVr1pVAng4ox"
      },
      "source": [
        "Import libraries and files"
      ]
    },
    {
      "cell_type": "code",
      "metadata": {
        "id": "MXSaJ7Gc8Xk0"
      },
      "source": [
        "import pandas as pd\n",
        "from pandas.tseries.offsets import DateOffset\n",
        "import numpy as np\n",
        "import seaborn as sns\n",
        "import matplotlib.pyplot as plt\n",
        "%matplotlib inline"
      ],
      "execution_count": 75,
      "outputs": []
    },
    {
      "cell_type": "code",
      "metadata": {
        "colab": {
          "base_uri": "https://localhost:8080/"
        },
        "id": "7LPL40pb8tah",
        "outputId": "1405856e-d407-4231-aa84-552496b199a5"
      },
      "source": [
        "from google.colab import drive\n",
        "drive.mount('/content/drive')"
      ],
      "execution_count": null,
      "outputs": [
        {
          "output_type": "stream",
          "text": [
            "Mounted at /content/drive\n"
          ],
          "name": "stdout"
        }
      ]
    },
    {
      "cell_type": "code",
      "metadata": {
        "id": "LzkPeJn68Xk7"
      },
      "source": [
        "activity_df = pd.read_excel('/content/drive/MyDrive/Bsda/Hourly_DriverActivity_1.csv.xlsx')\n",
        "search_df = pd.read_excel('/content/drive/MyDrive/Bsda/Hourly_OverviewSearch_1.csv.xlsx')"
      ],
      "execution_count": 6,
      "outputs": []
    },
    {
      "cell_type": "markdown",
      "metadata": {
        "id": "9ye2aRRgg9Bg"
      },
      "source": [
        "Checking files and data quality. Joining activity and search tables into one."
      ]
    },
    {
      "cell_type": "code",
      "metadata": {
        "id": "NQYnAZt98Xk-"
      },
      "source": [
        "merged_df = pd.merge(activity_df,search_df,on='Date',how='left')"
      ],
      "execution_count": 9,
      "outputs": []
    },
    {
      "cell_type": "code",
      "metadata": {
        "id": "ffNeGzMm8Xk_",
        "colab": {
          "base_uri": "https://localhost:8080/"
        },
        "outputId": "e464af43-91b0-4243-e0cb-b37ccbe6584f"
      },
      "source": [
        "merged_df.info()"
      ],
      "execution_count": 10,
      "outputs": [
        {
          "output_type": "stream",
          "text": [
            "<class 'pandas.core.frame.DataFrame'>\n",
            "Int64Index: 840 entries, 0 to 839\n",
            "Data columns (total 12 columns):\n",
            " #   Column                       Non-Null Count  Dtype  \n",
            "---  ------                       --------------  -----  \n",
            " 0   Date                         840 non-null    object \n",
            " 1   Active drivers               840 non-null    int64  \n",
            " 2   Online (h)                   840 non-null    int64  \n",
            " 3   Has booking (h)              840 non-null    int64  \n",
            " 4   Waiting for booking (h)      840 non-null    int64  \n",
            " 5   Busy (h)                     840 non-null    int64  \n",
            " 6   Hours per active driver      840 non-null    float64\n",
            " 7   Rides per online hour        840 non-null    float64\n",
            " 8   Finished Rides               795 non-null    float64\n",
            " 9   People saw 0 cars (unique)   839 non-null    float64\n",
            " 10  People saw +1 cars (unique)  839 non-null    float64\n",
            " 11  Coverage Ratio (unique)      839 non-null    float64\n",
            "dtypes: float64(6), int64(5), object(1)\n",
            "memory usage: 85.3+ KB\n"
          ],
          "name": "stdout"
        }
      ]
    },
    {
      "cell_type": "markdown",
      "metadata": {
        "id": "2m7NgilBhYQM"
      },
      "source": [
        "### Calculating extra columns to produce required output"
      ]
    },
    {
      "cell_type": "markdown",
      "metadata": {
        "id": "MSYnQ39mlatE"
      },
      "source": [
        "Renaming Online (h) as Supply and converting to minutes for precision"
      ]
    },
    {
      "cell_type": "code",
      "metadata": {
        "id": "25HLSW1Y8XlA"
      },
      "source": [
        "merged_df['Supply'] = merged_df['Online (h)'].apply(lambda x:x*60)"
      ],
      "execution_count": 11,
      "outputs": []
    },
    {
      "cell_type": "markdown",
      "metadata": {
        "id": "2lB-R5uCllDK"
      },
      "source": [
        "Calculating demand as total users multiplied by the average ride duration. I'm calculating avg ride duration by multiplying booked minutes by the number of finished rides."
      ]
    },
    {
      "cell_type": "code",
      "metadata": {
        "id": "EA99tZT58XlB"
      },
      "source": [
        "merged_df['Has booking (m)'] = merged_df['Has booking (h)'].apply(lambda x:x*60)"
      ],
      "execution_count": 12,
      "outputs": []
    },
    {
      "cell_type": "code",
      "metadata": {
        "id": "Z3IMdTVg8XlB"
      },
      "source": [
        "merged_df['Avg ride duration (m)'] = merged_df.apply(lambda x: x['Has booking (m)'] / x['Finished Rides'],axis=1)"
      ],
      "execution_count": 13,
      "outputs": []
    },
    {
      "cell_type": "code",
      "metadata": {
        "id": "anlGJWy_8XlB"
      },
      "source": [
        "merged_df['Total users'] = merged_df.apply(lambda x: x['People saw 0 cars (unique)']+x['People saw +1 cars (unique)'],axis=1)"
      ],
      "execution_count": 14,
      "outputs": []
    },
    {
      "cell_type": "code",
      "metadata": {
        "id": "A1kNt_gA8XlB"
      },
      "source": [
        "merged_df['Demand'] = merged_df.apply(lambda x: x['Total users'] * x['Avg ride duration (m)'],axis=1)"
      ],
      "execution_count": 15,
      "outputs": []
    },
    {
      "cell_type": "markdown",
      "metadata": {
        "id": "qN5i32I1rOlh"
      },
      "source": [
        "Calculating the supply ratio (supply / demand)"
      ]
    },
    {
      "cell_type": "code",
      "metadata": {
        "id": "V-iQVHfs8XlC"
      },
      "source": [
        "merged_df['Supply ratio'] = merged_df['Supply'].divide(merged_df['Demand'])"
      ],
      "execution_count": 16,
      "outputs": []
    },
    {
      "cell_type": "markdown",
      "metadata": {
        "id": "Alksv2S6rZex"
      },
      "source": [
        "Calculating a column with a rolling average RPH. Window of 3 hours."
      ]
    },
    {
      "cell_type": "code",
      "metadata": {
        "id": "yTB06LFG8XlC"
      },
      "source": [
        "merged_df['Rolling avg RPH'] = merged_df['Rides per online hour'].rolling(3,min_periods=1).mean()"
      ],
      "execution_count": 17,
      "outputs": []
    },
    {
      "cell_type": "markdown",
      "metadata": {
        "id": "bjPnHXR2rmKm"
      },
      "source": [
        "Calculating a column with guaranteed hourly earnings. Based on rollig RPH and average earning of €8 for the driver."
      ]
    },
    {
      "cell_type": "code",
      "metadata": {
        "id": "t2GEAKTM8XlC"
      },
      "source": [
        "merged_df['Guaranteed earnings'] = merged_df['Rolling avg RPH'].apply(lambda x:x*8)"
      ],
      "execution_count": 18,
      "outputs": []
    },
    {
      "cell_type": "markdown",
      "metadata": {
        "id": "BPH5UsGosBJi"
      },
      "source": [
        "Calculating a column with the numberof extra hours needed to meet demand. Return 0 if supply already exceeds demand."
      ]
    },
    {
      "cell_type": "code",
      "metadata": {
        "id": "x47zJHcc8XlD"
      },
      "source": [
        "merged_df['Extra hours needed'] = merged_df.apply(lambda x: (x['Demand'] - x['Supply'])/60,axis=1)\n",
        "merged_df['Extra hours needed'] = merged_df['Extra hours needed'].apply(lambda x: 0 if x < 0 else x)"
      ],
      "execution_count": 19,
      "outputs": []
    },
    {
      "cell_type": "markdown",
      "metadata": {
        "id": "yD0dI4GhzYiK"
      },
      "source": [
        "## Output Tables and Graphs"
      ]
    },
    {
      "cell_type": "markdown",
      "metadata": {
        "id": "YFVB37bTshwH"
      },
      "source": [
        "1. Which 36 hours in a week are most undersupplied."
      ]
    },
    {
      "cell_type": "code",
      "metadata": {
        "colab": {
          "base_uri": "https://localhost:8080/",
          "height": 731
        },
        "id": "raI7zkjXzH72",
        "outputId": "0483e8ac-9199-4ae0-8473-c9544860cf9f"
      },
      "source": [
        "undersupply_ranked_table_df"
      ],
      "execution_count": 50,
      "outputs": [
        {
          "output_type": "execute_result",
          "data": {
            "text/html": [
              "<div>\n",
              "<style scoped>\n",
              "    .dataframe tbody tr th:only-of-type {\n",
              "        vertical-align: middle;\n",
              "    }\n",
              "\n",
              "    .dataframe tbody tr th {\n",
              "        vertical-align: top;\n",
              "    }\n",
              "\n",
              "    .dataframe thead th {\n",
              "        text-align: right;\n",
              "    }\n",
              "</style>\n",
              "<table border=\"1\" class=\"dataframe\">\n",
              "  <thead>\n",
              "    <tr style=\"text-align: right;\">\n",
              "      <th>Weekday</th>\n",
              "      <th>Friday</th>\n",
              "      <th>Monday</th>\n",
              "      <th>Saturday</th>\n",
              "      <th>Thursday</th>\n",
              "      <th>Tuesday</th>\n",
              "      <th>Wednesday</th>\n",
              "    </tr>\n",
              "    <tr>\n",
              "      <th>Hour</th>\n",
              "      <th></th>\n",
              "      <th></th>\n",
              "      <th></th>\n",
              "      <th></th>\n",
              "      <th></th>\n",
              "      <th></th>\n",
              "    </tr>\n",
              "  </thead>\n",
              "  <tbody>\n",
              "    <tr>\n",
              "      <th>1</th>\n",
              "      <td>NaN</td>\n",
              "      <td>NaN</td>\n",
              "      <td>NaN</td>\n",
              "      <td>NaN</td>\n",
              "      <td>NaN</td>\n",
              "      <td>27.947691</td>\n",
              "    </tr>\n",
              "    <tr>\n",
              "      <th>2</th>\n",
              "      <td>NaN</td>\n",
              "      <td>NaN</td>\n",
              "      <td>NaN</td>\n",
              "      <td>13.076667</td>\n",
              "      <td>14.839135</td>\n",
              "      <td>NaN</td>\n",
              "    </tr>\n",
              "    <tr>\n",
              "      <th>3</th>\n",
              "      <td>37.196581</td>\n",
              "      <td>NaN</td>\n",
              "      <td>NaN</td>\n",
              "      <td>38.948944</td>\n",
              "      <td>NaN</td>\n",
              "      <td>6.400000</td>\n",
              "    </tr>\n",
              "    <tr>\n",
              "      <th>5</th>\n",
              "      <td>NaN</td>\n",
              "      <td>NaN</td>\n",
              "      <td>NaN</td>\n",
              "      <td>NaN</td>\n",
              "      <td>9.824599</td>\n",
              "      <td>5.459510</td>\n",
              "    </tr>\n",
              "    <tr>\n",
              "      <th>6</th>\n",
              "      <td>NaN</td>\n",
              "      <td>NaN</td>\n",
              "      <td>NaN</td>\n",
              "      <td>NaN</td>\n",
              "      <td>NaN</td>\n",
              "      <td>17.385698</td>\n",
              "    </tr>\n",
              "    <tr>\n",
              "      <th>7</th>\n",
              "      <td>NaN</td>\n",
              "      <td>NaN</td>\n",
              "      <td>NaN</td>\n",
              "      <td>25.531188</td>\n",
              "      <td>NaN</td>\n",
              "      <td>NaN</td>\n",
              "    </tr>\n",
              "    <tr>\n",
              "      <th>8</th>\n",
              "      <td>10.658285</td>\n",
              "      <td>9.678745</td>\n",
              "      <td>NaN</td>\n",
              "      <td>NaN</td>\n",
              "      <td>NaN</td>\n",
              "      <td>35.156744</td>\n",
              "    </tr>\n",
              "    <tr>\n",
              "      <th>9</th>\n",
              "      <td>NaN</td>\n",
              "      <td>11.007316</td>\n",
              "      <td>NaN</td>\n",
              "      <td>NaN</td>\n",
              "      <td>6.076923</td>\n",
              "      <td>NaN</td>\n",
              "    </tr>\n",
              "    <tr>\n",
              "      <th>10</th>\n",
              "      <td>NaN</td>\n",
              "      <td>11.764085</td>\n",
              "      <td>NaN</td>\n",
              "      <td>NaN</td>\n",
              "      <td>5.144444</td>\n",
              "      <td>NaN</td>\n",
              "    </tr>\n",
              "    <tr>\n",
              "      <th>11</th>\n",
              "      <td>NaN</td>\n",
              "      <td>NaN</td>\n",
              "      <td>NaN</td>\n",
              "      <td>5.650952</td>\n",
              "      <td>5.703326</td>\n",
              "      <td>10.339356</td>\n",
              "    </tr>\n",
              "    <tr>\n",
              "      <th>12</th>\n",
              "      <td>NaN</td>\n",
              "      <td>NaN</td>\n",
              "      <td>6.648214</td>\n",
              "      <td>25.745128</td>\n",
              "      <td>NaN</td>\n",
              "      <td>NaN</td>\n",
              "    </tr>\n",
              "    <tr>\n",
              "      <th>13</th>\n",
              "      <td>17.162857</td>\n",
              "      <td>NaN</td>\n",
              "      <td>NaN</td>\n",
              "      <td>NaN</td>\n",
              "      <td>28.162865</td>\n",
              "      <td>NaN</td>\n",
              "    </tr>\n",
              "    <tr>\n",
              "      <th>15</th>\n",
              "      <td>NaN</td>\n",
              "      <td>NaN</td>\n",
              "      <td>NaN</td>\n",
              "      <td>NaN</td>\n",
              "      <td>11.836479</td>\n",
              "      <td>NaN</td>\n",
              "    </tr>\n",
              "    <tr>\n",
              "      <th>16</th>\n",
              "      <td>NaN</td>\n",
              "      <td>NaN</td>\n",
              "      <td>NaN</td>\n",
              "      <td>NaN</td>\n",
              "      <td>NaN</td>\n",
              "      <td>6.694545</td>\n",
              "    </tr>\n",
              "    <tr>\n",
              "      <th>17</th>\n",
              "      <td>NaN</td>\n",
              "      <td>11.710985</td>\n",
              "      <td>NaN</td>\n",
              "      <td>9.110416</td>\n",
              "      <td>NaN</td>\n",
              "      <td>NaN</td>\n",
              "    </tr>\n",
              "    <tr>\n",
              "      <th>18</th>\n",
              "      <td>5.100870</td>\n",
              "      <td>14.137923</td>\n",
              "      <td>NaN</td>\n",
              "      <td>6.709091</td>\n",
              "      <td>NaN</td>\n",
              "      <td>NaN</td>\n",
              "    </tr>\n",
              "    <tr>\n",
              "      <th>19</th>\n",
              "      <td>NaN</td>\n",
              "      <td>11.422617</td>\n",
              "      <td>NaN</td>\n",
              "      <td>NaN</td>\n",
              "      <td>NaN</td>\n",
              "      <td>NaN</td>\n",
              "    </tr>\n",
              "    <tr>\n",
              "      <th>20</th>\n",
              "      <td>NaN</td>\n",
              "      <td>NaN</td>\n",
              "      <td>NaN</td>\n",
              "      <td>NaN</td>\n",
              "      <td>9.221185</td>\n",
              "      <td>NaN</td>\n",
              "    </tr>\n",
              "    <tr>\n",
              "      <th>21</th>\n",
              "      <td>NaN</td>\n",
              "      <td>NaN</td>\n",
              "      <td>NaN</td>\n",
              "      <td>NaN</td>\n",
              "      <td>NaN</td>\n",
              "      <td>8.386869</td>\n",
              "    </tr>\n",
              "    <tr>\n",
              "      <th>22</th>\n",
              "      <td>NaN</td>\n",
              "      <td>NaN</td>\n",
              "      <td>NaN</td>\n",
              "      <td>39.549001</td>\n",
              "      <td>NaN</td>\n",
              "      <td>NaN</td>\n",
              "    </tr>\n",
              "    <tr>\n",
              "      <th>23</th>\n",
              "      <td>NaN</td>\n",
              "      <td>NaN</td>\n",
              "      <td>NaN</td>\n",
              "      <td>NaN</td>\n",
              "      <td>NaN</td>\n",
              "      <td>7.837008</td>\n",
              "    </tr>\n",
              "  </tbody>\n",
              "</table>\n",
              "</div>"
            ],
            "text/plain": [
              "Weekday     Friday     Monday  Saturday   Thursday    Tuesday  Wednesday\n",
              "Hour                                                                    \n",
              "1              NaN        NaN       NaN        NaN        NaN  27.947691\n",
              "2              NaN        NaN       NaN  13.076667  14.839135        NaN\n",
              "3        37.196581        NaN       NaN  38.948944        NaN   6.400000\n",
              "5              NaN        NaN       NaN        NaN   9.824599   5.459510\n",
              "6              NaN        NaN       NaN        NaN        NaN  17.385698\n",
              "7              NaN        NaN       NaN  25.531188        NaN        NaN\n",
              "8        10.658285   9.678745       NaN        NaN        NaN  35.156744\n",
              "9              NaN  11.007316       NaN        NaN   6.076923        NaN\n",
              "10             NaN  11.764085       NaN        NaN   5.144444        NaN\n",
              "11             NaN        NaN       NaN   5.650952   5.703326  10.339356\n",
              "12             NaN        NaN  6.648214  25.745128        NaN        NaN\n",
              "13       17.162857        NaN       NaN        NaN  28.162865        NaN\n",
              "15             NaN        NaN       NaN        NaN  11.836479        NaN\n",
              "16             NaN        NaN       NaN        NaN        NaN   6.694545\n",
              "17             NaN  11.710985       NaN   9.110416        NaN        NaN\n",
              "18        5.100870  14.137923       NaN   6.709091        NaN        NaN\n",
              "19             NaN  11.422617       NaN        NaN        NaN        NaN\n",
              "20             NaN        NaN       NaN        NaN   9.221185        NaN\n",
              "21             NaN        NaN       NaN        NaN        NaN   8.386869\n",
              "22             NaN        NaN       NaN  39.549001        NaN        NaN\n",
              "23             NaN        NaN       NaN        NaN        NaN   7.837008"
            ]
          },
          "metadata": {
            "tags": []
          },
          "execution_count": 50
        }
      ]
    },
    {
      "cell_type": "markdown",
      "metadata": {
        "id": "q69XzE63p51k"
      },
      "source": [
        "2. 24-hour curve of average supply and demand (to illustrate match/mismatch).\n"
      ]
    },
    {
      "cell_type": "code",
      "metadata": {
        "colab": {
          "base_uri": "https://localhost:8080/",
          "height": 589
        },
        "id": "xQkgOjWtqHv_",
        "outputId": "7e3067f1-3d9e-4002-eb8c-ea8f5bba3466"
      },
      "source": [
        "plt.figure(figsize = (16,9))\n",
        "sns.lineplot(data = avg_supply_demand_df, \n",
        "             x='Hour',\n",
        "             y='Supply/Demand',\n",
        "             err_style='bars',\n",
        "             hue='Legend'\n",
        "             )\n",
        "plt.title(\"Average Supply vs Demand over 24 hours\", fontsize = 20)"
      ],
      "execution_count": 81,
      "outputs": [
        {
          "output_type": "execute_result",
          "data": {
            "text/plain": [
              "Text(0.5, 1.0, 'Average Supply vs Demand over 24 hours')"
            ]
          },
          "metadata": {
            "tags": []
          },
          "execution_count": 81
        },
        {
          "output_type": "display_data",
          "data": {
            "image/png": "[encoded data removed]",
            "text/plain": [
              "<Figure size 1152x648 with 1 Axes>"
            ]
          },
          "metadata": {
            "tags": [],
            "needs_background": "light"
          }
        }
      ]
    },
    {
      "cell_type": "markdown",
      "metadata": {
        "id": "oXkQToTm8Ny8"
      },
      "source": [
        "\n",
        "3. Visualisation of hours where we lack supply during a weekly period.\n",
        "\n"
      ]
    },
    {
      "cell_type": "code",
      "metadata": {
        "colab": {
          "base_uri": "https://localhost:8080/",
          "height": 589
        },
        "id": "TxUWziWT-lqj",
        "outputId": "d2b52d96-7ecd-4d64-e421-65d565b8ce96"
      },
      "source": [
        "plt.figure(figsize = (16,9))\n",
        "\n",
        "sns.heatmap(undersupply_ranked_table_df,annot=False,cmap='Blues')\n",
        "plt.title(\"Hours in week with high demand for drivers\", fontsize = 20)"
      ],
      "execution_count": 125,
      "outputs": [
        {
          "output_type": "execute_result",
          "data": {
            "text/plain": [
              "Text(0.5, 1.0, 'Hours in week with high demand for drivers')"
            ]
          },
          "metadata": {
            "tags": []
          },
          "execution_count": 125
        },
        {
          "output_type": "display_data",
          "data": {
            "image/png": "[encoded data removed]",
            "text/plain": [
              "<Figure size 1152x648 with 2 Axes>"
            ]
          },
          "metadata": {
            "tags": [],
            "needs_background": "light"
          }
        }
      ]
    },
    {
      "cell_type": "markdown",
      "metadata": {
        "id": "mdMdi4NjF9b0"
      },
      "source": [
        "4. Estimate number of hours needed to ensure we have a high Coverage Ratio during most peak hours."
      ]
    },
    {
      "cell_type": "code",
      "metadata": {
        "colab": {
          "base_uri": "https://localhost:8080/",
          "height": 1000
        },
        "id": "VU6DdlnkGO_L",
        "outputId": "b300b259-9050-41bf-a007-01bcf8685417"
      },
      "source": [
        "merged_df[['Date','Supply ratio','Extra hours needed']].sort_values('Supply ratio',ascending=True).head(36)"
      ],
      "execution_count": 137,
      "outputs": [
        {
          "output_type": "execute_result",
          "data": {
            "text/html": [
              "<div>\n",
              "<style scoped>\n",
              "    .dataframe tbody tr th:only-of-type {\n",
              "        vertical-align: middle;\n",
              "    }\n",
              "\n",
              "    .dataframe tbody tr th {\n",
              "        vertical-align: top;\n",
              "    }\n",
              "\n",
              "    .dataframe thead th {\n",
              "        text-align: right;\n",
              "    }\n",
              "</style>\n",
              "<table border=\"1\" class=\"dataframe\">\n",
              "  <thead>\n",
              "    <tr style=\"text-align: right;\">\n",
              "      <th></th>\n",
              "      <th>Date</th>\n",
              "      <th>Supply ratio</th>\n",
              "      <th>Extra hours needed</th>\n",
              "    </tr>\n",
              "  </thead>\n",
              "  <tbody>\n",
              "    <tr>\n",
              "      <th>68</th>\n",
              "      <td>2016-12-16 03</td>\n",
              "      <td>0.155844</td>\n",
              "      <td>32.500000</td>\n",
              "    </tr>\n",
              "    <tr>\n",
              "      <th>56</th>\n",
              "      <td>2016-12-16 15</td>\n",
              "      <td>0.174330</td>\n",
              "      <td>66.307692</td>\n",
              "    </tr>\n",
              "    <tr>\n",
              "      <th>135</th>\n",
              "      <td>2016-12-13 08</td>\n",
              "      <td>0.179383</td>\n",
              "      <td>59.470588</td>\n",
              "    </tr>\n",
              "    <tr>\n",
              "      <th>52</th>\n",
              "      <td>2016-12-16 19</td>\n",
              "      <td>0.183333</td>\n",
              "      <td>147.000000</td>\n",
              "    </tr>\n",
              "    <tr>\n",
              "      <th>58</th>\n",
              "      <td>2016-12-16 13</td>\n",
              "      <td>0.192308</td>\n",
              "      <td>58.800000</td>\n",
              "    </tr>\n",
              "    <tr>\n",
              "      <th>55</th>\n",
              "      <td>2016-12-16 16</td>\n",
              "      <td>0.194245</td>\n",
              "      <td>74.666667</td>\n",
              "    </tr>\n",
              "    <tr>\n",
              "      <th>43</th>\n",
              "      <td>2016-12-17 04</td>\n",
              "      <td>0.206818</td>\n",
              "      <td>53.692308</td>\n",
              "    </tr>\n",
              "    <tr>\n",
              "      <th>38</th>\n",
              "      <td>2016-12-17 09</td>\n",
              "      <td>0.225806</td>\n",
              "      <td>24.000000</td>\n",
              "    </tr>\n",
              "    <tr>\n",
              "      <th>57</th>\n",
              "      <td>2016-12-16 14</td>\n",
              "      <td>0.237624</td>\n",
              "      <td>38.500000</td>\n",
              "    </tr>\n",
              "    <tr>\n",
              "      <th>101</th>\n",
              "      <td>2016-12-14 18</td>\n",
              "      <td>0.238095</td>\n",
              "      <td>86.400000</td>\n",
              "    </tr>\n",
              "    <tr>\n",
              "      <th>44</th>\n",
              "      <td>2016-12-17 03</td>\n",
              "      <td>0.252930</td>\n",
              "      <td>62.027027</td>\n",
              "    </tr>\n",
              "    <tr>\n",
              "      <th>77</th>\n",
              "      <td>2016-12-15 18</td>\n",
              "      <td>0.261176</td>\n",
              "      <td>70.720930</td>\n",
              "    </tr>\n",
              "    <tr>\n",
              "      <th>69</th>\n",
              "      <td>2016-12-16 02</td>\n",
              "      <td>0.264706</td>\n",
              "      <td>33.333333</td>\n",
              "    </tr>\n",
              "    <tr>\n",
              "      <th>76</th>\n",
              "      <td>2016-12-15 19</td>\n",
              "      <td>0.272953</td>\n",
              "      <td>79.909091</td>\n",
              "    </tr>\n",
              "    <tr>\n",
              "      <th>63</th>\n",
              "      <td>2016-12-16 08</td>\n",
              "      <td>0.274038</td>\n",
              "      <td>31.789474</td>\n",
              "    </tr>\n",
              "    <tr>\n",
              "      <th>62</th>\n",
              "      <td>2016-12-16 09</td>\n",
              "      <td>0.277878</td>\n",
              "      <td>57.171429</td>\n",
              "    </tr>\n",
              "    <tr>\n",
              "      <th>807</th>\n",
              "      <td>2016-11-15 08</td>\n",
              "      <td>0.282258</td>\n",
              "      <td>35.600000</td>\n",
              "    </tr>\n",
              "    <tr>\n",
              "      <th>82</th>\n",
              "      <td>2016-12-15 13</td>\n",
              "      <td>0.285714</td>\n",
              "      <td>22.500000</td>\n",
              "    </tr>\n",
              "    <tr>\n",
              "      <th>53</th>\n",
              "      <td>2016-12-16 18</td>\n",
              "      <td>0.287655</td>\n",
              "      <td>101.531915</td>\n",
              "    </tr>\n",
              "    <tr>\n",
              "      <th>60</th>\n",
              "      <td>2016-12-16 11</td>\n",
              "      <td>0.294118</td>\n",
              "      <td>48.000000</td>\n",
              "    </tr>\n",
              "    <tr>\n",
              "      <th>211</th>\n",
              "      <td>2016-12-10 04</td>\n",
              "      <td>0.296496</td>\n",
              "      <td>26.100000</td>\n",
              "    </tr>\n",
              "    <tr>\n",
              "      <th>78</th>\n",
              "      <td>2016-12-15 17</td>\n",
              "      <td>0.307692</td>\n",
              "      <td>40.500000</td>\n",
              "    </tr>\n",
              "    <tr>\n",
              "      <th>125</th>\n",
              "      <td>2016-12-13 18</td>\n",
              "      <td>0.310945</td>\n",
              "      <td>55.400000</td>\n",
              "    </tr>\n",
              "    <tr>\n",
              "      <th>67</th>\n",
              "      <td>2016-12-16 04</td>\n",
              "      <td>0.322581</td>\n",
              "      <td>8.400000</td>\n",
              "    </tr>\n",
              "    <tr>\n",
              "      <th>451</th>\n",
              "      <td>2016-11-30 04</td>\n",
              "      <td>0.326255</td>\n",
              "      <td>26.846154</td>\n",
              "    </tr>\n",
              "    <tr>\n",
              "      <th>157</th>\n",
              "      <td>2016-12-12 10</td>\n",
              "      <td>0.326271</td>\n",
              "      <td>45.428571</td>\n",
              "    </tr>\n",
              "    <tr>\n",
              "      <th>37</th>\n",
              "      <td>2016-12-17 10</td>\n",
              "      <td>0.333333</td>\n",
              "      <td>12.000000</td>\n",
              "    </tr>\n",
              "    <tr>\n",
              "      <th>712</th>\n",
              "      <td>2016-11-19 07</td>\n",
              "      <td>0.333333</td>\n",
              "      <td>10.000000</td>\n",
              "    </tr>\n",
              "    <tr>\n",
              "      <th>161</th>\n",
              "      <td>2016-12-12 06</td>\n",
              "      <td>0.333333</td>\n",
              "      <td>8.000000</td>\n",
              "    </tr>\n",
              "    <tr>\n",
              "      <th>663</th>\n",
              "      <td>2016-11-21 08</td>\n",
              "      <td>0.334378</td>\n",
              "      <td>31.850000</td>\n",
              "    </tr>\n",
              "    <tr>\n",
              "      <th>223</th>\n",
              "      <td>2016-12-09 16</td>\n",
              "      <td>0.335097</td>\n",
              "      <td>37.700000</td>\n",
              "    </tr>\n",
              "    <tr>\n",
              "      <th>111</th>\n",
              "      <td>2016-12-14 08</td>\n",
              "      <td>0.341053</td>\n",
              "      <td>34.777778</td>\n",
              "    </tr>\n",
              "    <tr>\n",
              "      <th>110</th>\n",
              "      <td>2016-12-14 09</td>\n",
              "      <td>0.341647</td>\n",
              "      <td>42.393939</td>\n",
              "    </tr>\n",
              "    <tr>\n",
              "      <th>134</th>\n",
              "      <td>2016-12-13 09</td>\n",
              "      <td>0.342342</td>\n",
              "      <td>36.500000</td>\n",
              "    </tr>\n",
              "    <tr>\n",
              "      <th>45</th>\n",
              "      <td>2016-12-17 02</td>\n",
              "      <td>0.344752</td>\n",
              "      <td>51.317073</td>\n",
              "    </tr>\n",
              "    <tr>\n",
              "      <th>310</th>\n",
              "      <td>2016-12-06 01</td>\n",
              "      <td>0.347826</td>\n",
              "      <td>15.000000</td>\n",
              "    </tr>\n",
              "  </tbody>\n",
              "</table>\n",
              "</div>"
            ],
            "text/plain": [
              "              Date  Supply ratio  Extra hours needed\n",
              "68   2016-12-16 03      0.155844           32.500000\n",
              "56   2016-12-16 15      0.174330           66.307692\n",
              "135  2016-12-13 08      0.179383           59.470588\n",
              "52   2016-12-16 19      0.183333          147.000000\n",
              "58   2016-12-16 13      0.192308           58.800000\n",
              "55   2016-12-16 16      0.194245           74.666667\n",
              "43   2016-12-17 04      0.206818           53.692308\n",
              "38   2016-12-17 09      0.225806           24.000000\n",
              "57   2016-12-16 14      0.237624           38.500000\n",
              "101  2016-12-14 18      0.238095           86.400000\n",
              "44   2016-12-17 03      0.252930           62.027027\n",
              "77   2016-12-15 18      0.261176           70.720930\n",
              "69   2016-12-16 02      0.264706           33.333333\n",
              "76   2016-12-15 19      0.272953           79.909091\n",
              "63   2016-12-16 08      0.274038           31.789474\n",
              "62   2016-12-16 09      0.277878           57.171429\n",
              "807  2016-11-15 08      0.282258           35.600000\n",
              "82   2016-12-15 13      0.285714           22.500000\n",
              "53   2016-12-16 18      0.287655          101.531915\n",
              "60   2016-12-16 11      0.294118           48.000000\n",
              "211  2016-12-10 04      0.296496           26.100000\n",
              "78   2016-12-15 17      0.307692           40.500000\n",
              "125  2016-12-13 18      0.310945           55.400000\n",
              "67   2016-12-16 04      0.322581            8.400000\n",
              "451  2016-11-30 04      0.326255           26.846154\n",
              "157  2016-12-12 10      0.326271           45.428571\n",
              "37   2016-12-17 10      0.333333           12.000000\n",
              "712  2016-11-19 07      0.333333           10.000000\n",
              "161  2016-12-12 06      0.333333            8.000000\n",
              "663  2016-11-21 08      0.334378           31.850000\n",
              "223  2016-12-09 16      0.335097           37.700000\n",
              "111  2016-12-14 08      0.341053           34.777778\n",
              "110  2016-12-14 09      0.341647           42.393939\n",
              "134  2016-12-13 09      0.342342           36.500000\n",
              "45   2016-12-17 02      0.344752           51.317073\n",
              "310  2016-12-06 01      0.347826           15.000000"
            ]
          },
          "metadata": {
            "tags": []
          },
          "execution_count": 137
        }
      ]
    },
    {
      "cell_type": "markdown",
      "metadata": {
        "id": "rbYqBLXbH2c5"
      },
      "source": [
        "5. Calculate levels of guaranteed hourly earnings we can offer to drivers during 36 weekly hours with highest demand without losing money + how much extra hours we want to get to capture missed demand."
      ]
    },
    {
      "cell_type": "code",
      "metadata": {
        "colab": {
          "base_uri": "https://localhost:8080/",
          "height": 1000
        },
        "id": "z4tYD0PMIc2-",
        "outputId": "8145d0f8-dba9-41de-ca88-a297e59613d7"
      },
      "source": [
        "merged_df[['Date','Supply ratio','Extra hours needed','Guaranteed earnings']].sort_values('Supply ratio',ascending=True).head(36)"
      ],
      "execution_count": 148,
      "outputs": [
        {
          "output_type": "execute_result",
          "data": {
            "text/html": [
              "<div>\n",
              "<style scoped>\n",
              "    .dataframe tbody tr th:only-of-type {\n",
              "        vertical-align: middle;\n",
              "    }\n",
              "\n",
              "    .dataframe tbody tr th {\n",
              "        vertical-align: top;\n",
              "    }\n",
              "\n",
              "    .dataframe thead th {\n",
              "        text-align: right;\n",
              "    }\n",
              "</style>\n",
              "<table border=\"1\" class=\"dataframe\">\n",
              "  <thead>\n",
              "    <tr style=\"text-align: right;\">\n",
              "      <th></th>\n",
              "      <th>Date</th>\n",
              "      <th>Supply ratio</th>\n",
              "      <th>Extra hours needed</th>\n",
              "      <th>Guaranteed earnings</th>\n",
              "    </tr>\n",
              "  </thead>\n",
              "  <tbody>\n",
              "    <tr>\n",
              "      <th>68</th>\n",
              "      <td>2016-12-16 03</td>\n",
              "      <td>0.155844</td>\n",
              "      <td>32.500000</td>\n",
              "      <td>6.533333</td>\n",
              "    </tr>\n",
              "    <tr>\n",
              "      <th>56</th>\n",
              "      <td>2016-12-16 15</td>\n",
              "      <td>0.174330</td>\n",
              "      <td>66.307692</td>\n",
              "      <td>7.520000</td>\n",
              "    </tr>\n",
              "    <tr>\n",
              "      <th>135</th>\n",
              "      <td>2016-12-13 08</td>\n",
              "      <td>0.179383</td>\n",
              "      <td>59.470588</td>\n",
              "      <td>8.480000</td>\n",
              "    </tr>\n",
              "    <tr>\n",
              "      <th>52</th>\n",
              "      <td>2016-12-16 19</td>\n",
              "      <td>0.183333</td>\n",
              "      <td>147.000000</td>\n",
              "      <td>9.386667</td>\n",
              "    </tr>\n",
              "    <tr>\n",
              "      <th>58</th>\n",
              "      <td>2016-12-16 13</td>\n",
              "      <td>0.192308</td>\n",
              "      <td>58.800000</td>\n",
              "      <td>7.040000</td>\n",
              "    </tr>\n",
              "    <tr>\n",
              "      <th>55</th>\n",
              "      <td>2016-12-16 16</td>\n",
              "      <td>0.194245</td>\n",
              "      <td>74.666667</td>\n",
              "      <td>8.106667</td>\n",
              "    </tr>\n",
              "    <tr>\n",
              "      <th>43</th>\n",
              "      <td>2016-12-17 04</td>\n",
              "      <td>0.206818</td>\n",
              "      <td>53.692308</td>\n",
              "      <td>8.533333</td>\n",
              "    </tr>\n",
              "    <tr>\n",
              "      <th>38</th>\n",
              "      <td>2016-12-17 09</td>\n",
              "      <td>0.225806</td>\n",
              "      <td>24.000000</td>\n",
              "      <td>8.586667</td>\n",
              "    </tr>\n",
              "    <tr>\n",
              "      <th>57</th>\n",
              "      <td>2016-12-16 14</td>\n",
              "      <td>0.237624</td>\n",
              "      <td>38.500000</td>\n",
              "      <td>7.813333</td>\n",
              "    </tr>\n",
              "    <tr>\n",
              "      <th>101</th>\n",
              "      <td>2016-12-14 18</td>\n",
              "      <td>0.238095</td>\n",
              "      <td>86.400000</td>\n",
              "      <td>9.226667</td>\n",
              "    </tr>\n",
              "    <tr>\n",
              "      <th>44</th>\n",
              "      <td>2016-12-17 03</td>\n",
              "      <td>0.252930</td>\n",
              "      <td>62.027027</td>\n",
              "      <td>12.080000</td>\n",
              "    </tr>\n",
              "    <tr>\n",
              "      <th>77</th>\n",
              "      <td>2016-12-15 18</td>\n",
              "      <td>0.261176</td>\n",
              "      <td>70.720930</td>\n",
              "      <td>12.560000</td>\n",
              "    </tr>\n",
              "    <tr>\n",
              "      <th>69</th>\n",
              "      <td>2016-12-16 02</td>\n",
              "      <td>0.264706</td>\n",
              "      <td>33.333333</td>\n",
              "      <td>9.333333</td>\n",
              "    </tr>\n",
              "    <tr>\n",
              "      <th>76</th>\n",
              "      <td>2016-12-15 19</td>\n",
              "      <td>0.272953</td>\n",
              "      <td>79.909091</td>\n",
              "      <td>11.413333</td>\n",
              "    </tr>\n",
              "    <tr>\n",
              "      <th>63</th>\n",
              "      <td>2016-12-16 08</td>\n",
              "      <td>0.274038</td>\n",
              "      <td>31.789474</td>\n",
              "      <td>10.880000</td>\n",
              "    </tr>\n",
              "    <tr>\n",
              "      <th>62</th>\n",
              "      <td>2016-12-16 09</td>\n",
              "      <td>0.277878</td>\n",
              "      <td>57.171429</td>\n",
              "      <td>8.000000</td>\n",
              "    </tr>\n",
              "    <tr>\n",
              "      <th>807</th>\n",
              "      <td>2016-11-15 08</td>\n",
              "      <td>0.282258</td>\n",
              "      <td>35.600000</td>\n",
              "      <td>7.253333</td>\n",
              "    </tr>\n",
              "    <tr>\n",
              "      <th>82</th>\n",
              "      <td>2016-12-15 13</td>\n",
              "      <td>0.285714</td>\n",
              "      <td>22.500000</td>\n",
              "      <td>4.826667</td>\n",
              "    </tr>\n",
              "    <tr>\n",
              "      <th>53</th>\n",
              "      <td>2016-12-16 18</td>\n",
              "      <td>0.287655</td>\n",
              "      <td>101.531915</td>\n",
              "      <td>10.320000</td>\n",
              "    </tr>\n",
              "    <tr>\n",
              "      <th>60</th>\n",
              "      <td>2016-12-16 11</td>\n",
              "      <td>0.294118</td>\n",
              "      <td>48.000000</td>\n",
              "      <td>5.733333</td>\n",
              "    </tr>\n",
              "    <tr>\n",
              "      <th>211</th>\n",
              "      <td>2016-12-10 04</td>\n",
              "      <td>0.296496</td>\n",
              "      <td>26.100000</td>\n",
              "      <td>8.586667</td>\n",
              "    </tr>\n",
              "    <tr>\n",
              "      <th>78</th>\n",
              "      <td>2016-12-15 17</td>\n",
              "      <td>0.307692</td>\n",
              "      <td>40.500000</td>\n",
              "      <td>12.053333</td>\n",
              "    </tr>\n",
              "    <tr>\n",
              "      <th>125</th>\n",
              "      <td>2016-12-13 18</td>\n",
              "      <td>0.310945</td>\n",
              "      <td>55.400000</td>\n",
              "      <td>8.186667</td>\n",
              "    </tr>\n",
              "    <tr>\n",
              "      <th>67</th>\n",
              "      <td>2016-12-16 04</td>\n",
              "      <td>0.322581</td>\n",
              "      <td>8.400000</td>\n",
              "      <td>3.866667</td>\n",
              "    </tr>\n",
              "    <tr>\n",
              "      <th>451</th>\n",
              "      <td>2016-11-30 04</td>\n",
              "      <td>0.326255</td>\n",
              "      <td>26.846154</td>\n",
              "      <td>4.026667</td>\n",
              "    </tr>\n",
              "    <tr>\n",
              "      <th>157</th>\n",
              "      <td>2016-12-12 10</td>\n",
              "      <td>0.326271</td>\n",
              "      <td>45.428571</td>\n",
              "      <td>3.226667</td>\n",
              "    </tr>\n",
              "    <tr>\n",
              "      <th>37</th>\n",
              "      <td>2016-12-17 10</td>\n",
              "      <td>0.333333</td>\n",
              "      <td>12.000000</td>\n",
              "      <td>6.613333</td>\n",
              "    </tr>\n",
              "    <tr>\n",
              "      <th>712</th>\n",
              "      <td>2016-11-19 07</td>\n",
              "      <td>0.333333</td>\n",
              "      <td>10.000000</td>\n",
              "      <td>4.373333</td>\n",
              "    </tr>\n",
              "    <tr>\n",
              "      <th>161</th>\n",
              "      <td>2016-12-12 06</td>\n",
              "      <td>0.333333</td>\n",
              "      <td>8.000000</td>\n",
              "      <td>6.106667</td>\n",
              "    </tr>\n",
              "    <tr>\n",
              "      <th>663</th>\n",
              "      <td>2016-11-21 08</td>\n",
              "      <td>0.334378</td>\n",
              "      <td>31.850000</td>\n",
              "      <td>8.213333</td>\n",
              "    </tr>\n",
              "    <tr>\n",
              "      <th>223</th>\n",
              "      <td>2016-12-09 16</td>\n",
              "      <td>0.335097</td>\n",
              "      <td>37.700000</td>\n",
              "      <td>6.346667</td>\n",
              "    </tr>\n",
              "    <tr>\n",
              "      <th>111</th>\n",
              "      <td>2016-12-14 08</td>\n",
              "      <td>0.341053</td>\n",
              "      <td>34.777778</td>\n",
              "      <td>7.946667</td>\n",
              "    </tr>\n",
              "    <tr>\n",
              "      <th>110</th>\n",
              "      <td>2016-12-14 09</td>\n",
              "      <td>0.341647</td>\n",
              "      <td>42.393939</td>\n",
              "      <td>6.320000</td>\n",
              "    </tr>\n",
              "    <tr>\n",
              "      <th>134</th>\n",
              "      <td>2016-12-13 09</td>\n",
              "      <td>0.342342</td>\n",
              "      <td>36.500000</td>\n",
              "      <td>6.586667</td>\n",
              "    </tr>\n",
              "    <tr>\n",
              "      <th>45</th>\n",
              "      <td>2016-12-17 02</td>\n",
              "      <td>0.344752</td>\n",
              "      <td>51.317073</td>\n",
              "      <td>13.706667</td>\n",
              "    </tr>\n",
              "    <tr>\n",
              "      <th>310</th>\n",
              "      <td>2016-12-06 01</td>\n",
              "      <td>0.347826</td>\n",
              "      <td>15.000000</td>\n",
              "      <td>1.226667</td>\n",
              "    </tr>\n",
              "  </tbody>\n",
              "</table>\n",
              "</div>"
            ],
            "text/plain": [
              "              Date  Supply ratio  Extra hours needed  Guaranteed earnings\n",
              "68   2016-12-16 03      0.155844           32.500000             6.533333\n",
              "56   2016-12-16 15      0.174330           66.307692             7.520000\n",
              "135  2016-12-13 08      0.179383           59.470588             8.480000\n",
              "52   2016-12-16 19      0.183333          147.000000             9.386667\n",
              "58   2016-12-16 13      0.192308           58.800000             7.040000\n",
              "55   2016-12-16 16      0.194245           74.666667             8.106667\n",
              "43   2016-12-17 04      0.206818           53.692308             8.533333\n",
              "38   2016-12-17 09      0.225806           24.000000             8.586667\n",
              "57   2016-12-16 14      0.237624           38.500000             7.813333\n",
              "101  2016-12-14 18      0.238095           86.400000             9.226667\n",
              "44   2016-12-17 03      0.252930           62.027027            12.080000\n",
              "77   2016-12-15 18      0.261176           70.720930            12.560000\n",
              "69   2016-12-16 02      0.264706           33.333333             9.333333\n",
              "76   2016-12-15 19      0.272953           79.909091            11.413333\n",
              "63   2016-12-16 08      0.274038           31.789474            10.880000\n",
              "62   2016-12-16 09      0.277878           57.171429             8.000000\n",
              "807  2016-11-15 08      0.282258           35.600000             7.253333\n",
              "82   2016-12-15 13      0.285714           22.500000             4.826667\n",
              "53   2016-12-16 18      0.287655          101.531915            10.320000\n",
              "60   2016-12-16 11      0.294118           48.000000             5.733333\n",
              "211  2016-12-10 04      0.296496           26.100000             8.586667\n",
              "78   2016-12-15 17      0.307692           40.500000            12.053333\n",
              "125  2016-12-13 18      0.310945           55.400000             8.186667\n",
              "67   2016-12-16 04      0.322581            8.400000             3.866667\n",
              "451  2016-11-30 04      0.326255           26.846154             4.026667\n",
              "157  2016-12-12 10      0.326271           45.428571             3.226667\n",
              "37   2016-12-17 10      0.333333           12.000000             6.613333\n",
              "712  2016-11-19 07      0.333333           10.000000             4.373333\n",
              "161  2016-12-12 06      0.333333            8.000000             6.106667\n",
              "663  2016-11-21 08      0.334378           31.850000             8.213333\n",
              "223  2016-12-09 16      0.335097           37.700000             6.346667\n",
              "111  2016-12-14 08      0.341053           34.777778             7.946667\n",
              "110  2016-12-14 09      0.341647           42.393939             6.320000\n",
              "134  2016-12-13 09      0.342342           36.500000             6.586667\n",
              "45   2016-12-17 02      0.344752           51.317073            13.706667\n",
              "310  2016-12-06 01      0.347826           15.000000             1.226667"
            ]
          },
          "metadata": {
            "tags": []
          },
          "execution_count": 148
        }
      ]
    },
    {
      "cell_type": "markdown",
      "metadata": {
        "id": "cL3DWXhoIa0t"
      },
      "source": [
        "undersupp"
      ]
    },
    {
      "cell_type": "markdown",
      "metadata": {
        "id": "2hnR7Ha78Mhs"
      },
      "source": [
        ""
      ]
    },
    {
      "cell_type": "markdown",
      "metadata": {
        "id": "KmDEwVuCsadz"
      },
      "source": [
        "### Preparing the output tables and graphs"
      ]
    },
    {
      "cell_type": "markdown",
      "metadata": {
        "id": "Itf9R3XTzSAH"
      },
      "source": [
        "Top 36 undersupplied hours"
      ]
    },
    {
      "cell_type": "code",
      "metadata": {
        "id": "eSQCpXto8XlE",
        "colab": {
          "base_uri": "https://localhost:8080/"
        },
        "outputId": "c99d775b-d276-463d-e7d7-85bc486d0b65"
      },
      "source": [
        "undersupply_df = merged_df[['Date','Extra hours needed']]\n",
        "undersupply_df['Datetime'] = pd.to_datetime(undersupply_df['Date'],format='%Y-%m-%d %H')"
      ],
      "execution_count": 102,
      "outputs": [
        {
          "output_type": "stream",
          "text": [
            "/usr/local/lib/python3.7/dist-packages/ipykernel_launcher.py:2: SettingWithCopyWarning: \n",
            "A value is trying to be set on a copy of a slice from a DataFrame.\n",
            "Try using .loc[row_indexer,col_indexer] = value instead\n",
            "\n",
            "See the caveats in the documentation: https://pandas.pydata.org/pandas-docs/stable/user_guide/indexing.html#returning-a-view-versus-a-copy\n",
            "  \n"
          ],
          "name": "stderr"
        }
      ]
    },
    {
      "cell_type": "code",
      "metadata": {
        "id": "msnm8qmo8XlF"
      },
      "source": [
        "undersupply_df = undersupply_df[['Datetime','Extra hours needed']]\n",
        "undersupply_df.set_index('Datetime',inplace=True)\n",
        "\n",
        "undersupply_ranked_df = (undersupply_df.groupby((undersupply_df.index.dayofweek + 1) * (undersupply_df.index.hour + 1))['Extra hours needed'].mean()\n",
        "                        .rename_axis('HourOfWeek')\n",
        "                        .reset_index()\n",
        "                        )\n",
        "\n",
        "undersupply_ranked_df['Datetime'] = undersupply_ranked_df.apply(lambda x: pd.Timestamp('2021-03-01 00:00:00') + DateOffset(hours=(x['HourOfWeek']-1)),axis=1)\n",
        "\n",
        "undersupply_ranked_df['Weekday'] = undersupply_ranked_df['Datetime'].dt.day_name()\n",
        "undersupply_ranked_df['Hour'] = undersupply_ranked_df['Datetime'].dt.hour"
      ],
      "execution_count": 103,
      "outputs": []
    },
    {
      "cell_type": "code",
      "metadata": {
        "id": "sMTnsHMouZam"
      },
      "source": [
        "undersupply_ranked_table_df = undersupply_ranked_df.sort_values(by=['Extra hours needed'],ascending=False).head(36).reset_index()[['Weekday','Hour','Extra hours needed']].pivot(index='Hour',columns='Weekday',values='Extra hours needed')"
      ],
      "execution_count": 104,
      "outputs": []
    },
    {
      "cell_type": "markdown",
      "metadata": {
        "id": "nWd_wL6K7GKU"
      },
      "source": [
        "24-hour curve of average supply and demand (to illustrate match/mismatch).\n"
      ]
    },
    {
      "cell_type": "code",
      "metadata": {
        "id": "8nvTl1zezq31"
      },
      "source": [
        "avg_supply_demand_df = merged_df[['Date','Supply','Demand']]\n",
        "avg_supply_demand_df['Hour'] = pd.to_datetime(avg_supply_demand_df['Date'],format='%Y-%m-%d %H').dt.hour\n",
        "avg_supply_demand_df = avg_supply_demand_df[['Hour','Supply','Demand']]\n",
        "avg_supply_demand_df = avg_supply_demand_df.groupby('Hour').mean().reset_index()"
      ],
      "execution_count": null,
      "outputs": []
    },
    {
      "cell_type": "code",
      "metadata": {
        "id": "1NlJXHlE3WuU"
      },
      "source": [
        "avg_supply = avg_supply_demand_df[['Hour','Supply']]\n",
        "avg_supply['Legend'] = 'Supply'\n",
        "avg_supply.rename(columns={'Supply':'Supply/Demand'}, inplace=True)\n",
        "avg_demand = avg_supply_demand_df[['Hour','Demand']]\n",
        "avg_demand['Legend'] = 'Demand'\n",
        "avg_demand.rename(columns={'Demand':'Supply/Demand'}, inplace=True)\n",
        "avg_supply_demand_df = avg_supply.append(avg_demand)"
      ],
      "execution_count": 80,
      "outputs": []
    }
  ]
}